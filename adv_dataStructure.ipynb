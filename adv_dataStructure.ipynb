{
 "cells": [
  {
   "cell_type": "code",
   "execution_count": 1,
   "id": "95fff9a8-968f-4810-b4b4-7c47eacfe163",
   "metadata": {},
   "outputs": [
    {
     "name": "stdin",
     "output_type": "stream",
     "text": [
      "Enter a string: devangi baravaliya\n"
     ]
    },
    {
     "name": "stdout",
     "output_type": "stream",
     "text": [
      "reverce string is: ayilavarab ignaved\n"
     ]
    }
   ],
   "source": [
    "#1. Write a code to reverse a string.\n",
    "s=input(\"Enter a string:\")\n",
    "print(\"reverce string is:\" , s[::-1])"
   ]
  },
  {
   "cell_type": "code",
   "execution_count": 3,
   "id": "17935083-b32b-4d51-a738-44e4b4ffe7dd",
   "metadata": {},
   "outputs": [
    {
     "name": "stdin",
     "output_type": "stream",
     "text": [
      "Enter a string: hello\n"
     ]
    },
    {
     "name": "stdout",
     "output_type": "stream",
     "text": [
      "vowel count is: 2\n"
     ]
    }
   ],
   "source": [
    "#2. Write a code to count the number of vowels in a string.\n",
    "s=input(\"Enter a string:\")\n",
    "vowels = \"aeiouAEIOU\"\n",
    "vcount = 0\n",
    "for char in s:\n",
    "    if char in vowels:\n",
    "        vcount += 1\n",
    "print(\"vowel count is:\" , vcount)"
   ]
  },
  {
   "cell_type": "code",
   "execution_count": 5,
   "id": "6aae5719-3f38-4a5b-bbcb-b9039eb72932",
   "metadata": {},
   "outputs": [
    {
     "name": "stdin",
     "output_type": "stream",
     "text": [
      "Enter a string: hello\n"
     ]
    },
    {
     "name": "stdout",
     "output_type": "stream",
     "text": [
      "False\n"
     ]
    }
   ],
   "source": [
    "#3. aWrite a code to check if a given string is a palindrome or not.\n",
    "s=input(\"Enter a string:\")\n",
    "is_palindrome = (s == s[::-1])\n",
    "print(is_palindrome)"
   ]
  },
  {
   "cell_type": "code",
   "execution_count": 7,
   "id": "cc99fe6a-e47f-4345-8c38-7780db958b69",
   "metadata": {},
   "outputs": [
    {
     "name": "stdin",
     "output_type": "stream",
     "text": [
      "Enter first string: hello\n",
      "Enter secound string: world\n"
     ]
    },
    {
     "name": "stdout",
     "output_type": "stream",
     "text": [
      "False\n"
     ]
    }
   ],
   "source": [
    "#4. Write a code to check if two given strings are anagrams of each other.\n",
    "s1 = input(\"Enter first string:\")\n",
    "s2 = input(\"Enter secound string:\")\n",
    "anagrams = (sorted(s1) == sorted(s2))\n",
    "print(anagrams)"
   ]
  },
  {
   "cell_type": "code",
   "execution_count": 9,
   "id": "0e49029f-73fb-4d21-a014-7694ef80a22b",
   "metadata": {},
   "outputs": [
    {
     "name": "stdout",
     "output_type": "stream",
     "text": [
      "[3, 8]\n"
     ]
    }
   ],
   "source": [
    "#5. Write a code to find all occurrences of a given substring within another string.\n",
    "s = \"hellohello worldworld\"\n",
    "sub = \"lo\"\n",
    "start = 0\n",
    "occ = []\n",
    "while start < len(s):\n",
    "    start = s.find(sub, start)\n",
    "    if start == -1:\n",
    "        break\n",
    "    occ.append(start)\n",
    "    start += len(sub)\n",
    "print(occ)"
   ]
  },
  {
   "cell_type": "code",
   "execution_count": 11,
   "id": "6baee9e9-5ce3-424d-b726-d7850b5459ee",
   "metadata": {},
   "outputs": [
    {
     "name": "stdout",
     "output_type": "stream",
     "text": [
      "a3b3c3\n"
     ]
    }
   ],
   "source": [
    "#6. Write a code to perform basic string compression using the counts of repeated characters.\n",
    "s = \"aaabbbccc\"\n",
    "comp = []\n",
    "count = 1\n",
    "for i in range(1, len(s)):\n",
    "    if s[i] == s[i - 1]:\n",
    "        count += 1\n",
    "    else:\n",
    "        comp.append(s[i - 1] + str(count))\n",
    "        count = 1\n",
    "comp.append(s[-1] + str(count))  \n",
    "comp_string = ''.join(comp)\n",
    "print(comp_string) "
   ]
  },
  {
   "cell_type": "code",
   "execution_count": 13,
   "id": "85daba17-b426-4ddb-a6fc-c7d431bb1a3d",
   "metadata": {},
   "outputs": [
    {
     "name": "stdin",
     "output_type": "stream",
     "text": [
      "Enter a string: devangi\n"
     ]
    },
    {
     "name": "stdout",
     "output_type": "stream",
     "text": [
      "True\n"
     ]
    }
   ],
   "source": [
    "#7. Write a code to determine if a string has all unique characters.\n",
    "s = input(\"Enter a string:\")\n",
    "unique = (len(s) == len(set(s)))\n",
    "print(unique)"
   ]
  },
  {
   "cell_type": "code",
   "execution_count": 15,
   "id": "4d3927c2-8dbe-4d79-9525-09b22ef80508",
   "metadata": {},
   "outputs": [
    {
     "name": "stdin",
     "output_type": "stream",
     "text": [
      "Enter a string: hello world\n"
     ]
    },
    {
     "name": "stdout",
     "output_type": "stream",
     "text": [
      "UPPERCASE: HELLO WORLD\n",
      "lowercase: hello world\n"
     ]
    }
   ],
   "source": [
    "#8. Write a code to convert a given string to uppercase or lowercase.\n",
    "s = input(\"Enter a string:\")\n",
    "uppercase = s.upper()\n",
    "lowercase = s.lower()\n",
    "print(\"UPPERCASE:\",uppercase)  \n",
    "print(\"lowercase:\",lowercase)  "
   ]
  },
  {
   "cell_type": "code",
   "execution_count": 17,
   "id": "bf35e33a-9989-47e2-ac20-7326ad7f5e4f",
   "metadata": {},
   "outputs": [
    {
     "name": "stdin",
     "output_type": "stream",
     "text": [
      "Enter a string: hello hii how are you\n"
     ]
    },
    {
     "name": "stdout",
     "output_type": "stream",
     "text": [
      "number of words:  5\n"
     ]
    }
   ],
   "source": [
    "#9. Write a code to count the number of words in a string.\n",
    "s = input(\"Enter a string:\")\n",
    "count = len(s.split())\n",
    "print(\"number of words: \", count)"
   ]
  },
  {
   "cell_type": "code",
   "execution_count": 19,
   "id": "37070cf0-949c-499e-81ac-aebcc01d9009",
   "metadata": {},
   "outputs": [
    {
     "name": "stdin",
     "output_type": "stream",
     "text": [
      "Enter first string: hello\n",
      "Enter secound string: world\n"
     ]
    },
    {
     "name": "stdout",
     "output_type": "stream",
     "text": [
      "hello world\n"
     ]
    }
   ],
   "source": [
    "#10. Write a code to concatenate two strings without using the + operator.\n",
    "s1 = input(\"Enter first string:\")\n",
    "s2 = input(\"Enter secound string:\")\n",
    "concatenated = ' '.join([s1, s2])\n",
    "print(concatenated) "
   ]
  },
  {
   "cell_type": "code",
   "execution_count": 21,
   "id": "273b5b3a-3831-4a2c-8def-fdc3a7115dad",
   "metadata": {},
   "outputs": [
    {
     "name": "stdout",
     "output_type": "stream",
     "text": [
      "[1, 3, 4]\n"
     ]
    }
   ],
   "source": [
    "#11. Write a code to remove all occurrences of a specific element from a list.\n",
    "lst = [1, 2, 3, 2, 4, 2]\n",
    "element = 2\n",
    "new_lst = [x for x in lst if x != element]\n",
    "print(new_lst)"
   ]
  },
  {
   "cell_type": "code",
   "execution_count": 23,
   "id": "3952c13e-2d71-4c5d-b406-439c1745798e",
   "metadata": {},
   "outputs": [
    {
     "name": "stdout",
     "output_type": "stream",
     "text": [
      "secound largest element is: 45\n"
     ]
    }
   ],
   "source": [
    "#12. Implement a code to find the second largest number in a given list of integers.\n",
    "lst = [10, 20, 4, 45, 99]\n",
    "unique_lst = list(set(lst))  # Remove duplicate\n",
    "lst.sort()\n",
    "sec = lst[-2]\n",
    "print(\"secound largest element is:\",sec) "
   ]
  },
  {
   "cell_type": "code",
   "execution_count": 25,
   "id": "92cc599a-74e1-4fe0-adca-0520c0d8496c",
   "metadata": {},
   "outputs": [
    {
     "name": "stdout",
     "output_type": "stream",
     "text": [
      "{1: 1, 2: 2, 3: 3, 4: 1}\n"
     ]
    }
   ],
   "source": [
    "#13. Create a code to count the occurrences of each element in a list and return a dictionary with elements as keys and their counts as values.\n",
    "lst = [1, 2, 2, 3, 3, 3, 4]\n",
    "element_count = {}\n",
    "for item in lst:\n",
    "    element_count[item] = element_count.get(item, 0) + 1\n",
    "print(element_count)"
   ]
  },
  {
   "cell_type": "code",
   "execution_count": 27,
   "id": "5f0e4c51-bca4-4a63-88ff-35ec0be3384b",
   "metadata": {},
   "outputs": [
    {
     "name": "stdout",
     "output_type": "stream",
     "text": [
      "[5, 4, 3, 2, 1]\n"
     ]
    }
   ],
   "source": [
    "#14. Write a code to reverse a list in-place without using any built-in reverse functions.\n",
    "lst = [1, 2, 3, 4, 5]\n",
    "left = 0\n",
    "right = len(lst) - 1\n",
    "while left < right:\n",
    "    lst[left], lst[right] = lst[right], lst[left]\n",
    "    left += 1\n",
    "    right -= 1\n",
    "print(lst)"
   ]
  },
  {
   "cell_type": "code",
   "execution_count": 29,
   "id": "46f59bfd-a613-4763-a13b-f1d97d01e5f4",
   "metadata": {},
   "outputs": [
    {
     "name": "stdout",
     "output_type": "stream",
     "text": [
      "[1, 2, 3, 4, 5]\n"
     ]
    }
   ],
   "source": [
    "#15. Implement a code to find and remove duplicates from a list while preserving the original order of elements.\n",
    "lst = [1, 2, 2, 3, 4, 4, 5]\n",
    "seen = set()\n",
    "new_lst = []\n",
    "for item in lst:\n",
    "    if item not in seen:\n",
    "        new_lst.append(item)\n",
    "        seen.add(item)\n",
    "print(new_lst)\n"
   ]
  },
  {
   "cell_type": "code",
   "execution_count": 31,
   "id": "5cf0fad8-a455-4921-ac28-b6c1a4db7bfa",
   "metadata": {},
   "outputs": [
    {
     "name": "stdout",
     "output_type": "stream",
     "text": [
      "True\n"
     ]
    }
   ],
   "source": [
    "#16. Create a code to check if a given list is sorted (either in ascending or descending order) or not.\n",
    "lst = [1, 2, 3, 4, 5]\n",
    "asc = lst == sorted(lst)\n",
    "dsc = lst == sorted(lst, reverse=True)\n",
    "print(asc or dsc)"
   ]
  },
  {
   "cell_type": "code",
   "execution_count": 33,
   "id": "766b503c-b972-4bff-ba41-f90b926098d0",
   "metadata": {},
   "outputs": [
    {
     "name": "stdout",
     "output_type": "stream",
     "text": [
      "[1, 2, 3, 4, 5, 6]\n"
     ]
    }
   ],
   "source": [
    "#17. Write a code to merge two sorted lists into a single sorted list.\\\n",
    "lst1 = [1, 3, 5]\n",
    "lst2 = [2, 4, 6]\n",
    "merged_list = sorted(lst1 + lst2)\n",
    "print(merged_list)"
   ]
  },
  {
   "cell_type": "code",
   "execution_count": 35,
   "id": "dedbf065-a946-4689-9585-b0413c9de023",
   "metadata": {},
   "outputs": [
    {
     "name": "stdout",
     "output_type": "stream",
     "text": [
      "[3, 4]\n"
     ]
    }
   ],
   "source": [
    "#18. Implement a code to find the intersection of two given lists.\n",
    "lst1 = [1, 2, 3, 4]\n",
    "lst2 = [3, 4, 5, 6]\n",
    "intersection = [x for x in lst1 if x in lst2]\n",
    "print(intersection)"
   ]
  },
  {
   "cell_type": "code",
   "execution_count": 37,
   "id": "78063551-3b64-4d75-b187-2bd88a4bb8aa",
   "metadata": {},
   "outputs": [
    {
     "name": "stdout",
     "output_type": "stream",
     "text": [
      "[1, 2, 3, 4, 5, 6]\n"
     ]
    }
   ],
   "source": [
    "#19. Create a code to find the union of two lists without duplicates.\n",
    "lst1 = [1, 2, 3, 4]\n",
    "lst2 = [3, 4, 5, 6]\n",
    "union = list(set(lst1 + lst2))\n",
    "print(union) "
   ]
  },
  {
   "cell_type": "code",
   "execution_count": 39,
   "id": "81308d5e-4792-4b18-afdf-1872df1df398",
   "metadata": {},
   "outputs": [
    {
     "name": "stdout",
     "output_type": "stream",
     "text": [
      "[5, 1, 4, 2, 3]\n"
     ]
    }
   ],
   "source": [
    "#20. Write a code to shuffle a given list randomly without using any built-in shuffle functions.\n",
    "import random\n",
    "\n",
    "lst = [1, 2, 3, 4, 5]\n",
    "for i in range(len(lst) - 1, 0, -1):\n",
    "    j = random.randint(0, i)\n",
    "    lst[i], lst[j] = lst[j], lst[i]\n",
    "print(lst)"
   ]
  },
  {
   "cell_type": "code",
   "execution_count": 41,
   "id": "e0e9162b-7f4f-4663-af0d-9ee84eb470c3",
   "metadata": {},
   "outputs": [
    {
     "name": "stdout",
     "output_type": "stream",
     "text": [
      "(3, 4)\n"
     ]
    }
   ],
   "source": [
    "#21. Write a code that takes two tuples as input and returns a new tuple containing elements that are common to both input tuples.\n",
    "tuple1 = (1, 2, 3, 4)\n",
    "tuple2 = (3, 4, 5, 6)\n",
    "common_elements = tuple(x for x in tuple1 if x in tuple2)\n",
    "print(common_elements)  "
   ]
  },
  {
   "cell_type": "code",
   "execution_count": 45,
   "id": "b8a3af45-61fe-4d59-b446-041615b58e7b",
   "metadata": {},
   "outputs": [
    {
     "name": "stdin",
     "output_type": "stream",
     "text": [
      "Enter first set of integers: 1,2,3,4,5\n",
      "Enter second set of integers: 4,5,6,7,8,9\n"
     ]
    },
    {
     "name": "stdout",
     "output_type": "stream",
     "text": [
      "{4, 5}\n"
     ]
    }
   ],
   "source": [
    "#22. Create a code that prompts the user to enter two sets of integers separated by commas. Then, print the intersection of these two sets.\n",
    "set1 = set(map(int, input(\"Enter first set of integers:\").split(',')))\n",
    "set2 = set(map(int, input(\"Enter second set of integers:\").split(',')))\n",
    "intersection = set1.intersection(set2)\n",
    "print(intersection) "
   ]
  },
  {
   "cell_type": "code",
   "execution_count": 47,
   "id": "a7d4879f-e382-4655-9eb8-21f0ecb8b971",
   "metadata": {},
   "outputs": [
    {
     "name": "stdout",
     "output_type": "stream",
     "text": [
      "(1, 2, 3, 4, 5, 6)\n"
     ]
    }
   ],
   "source": [
    "#23. Write a code to concatenate two tuples. The function should take two tuples as input and return a new tuple containing elements from both input tuples.\n",
    "tuple1 = (1, 2, 3)\n",
    "tuple2 = (4, 5, 6)\n",
    "concat = tuple1 + tuple2\n",
    "print(concat)"
   ]
  },
  {
   "cell_type": "code",
   "execution_count": 53,
   "id": "367635e3-3dd6-4aa9-91cc-dfdace1bc4da",
   "metadata": {},
   "outputs": [
    {
     "name": "stdin",
     "output_type": "stream",
     "text": [
      "Enter first set of strings:  hello\n",
      "Enter second set of strings:  world\n"
     ]
    },
    {
     "name": "stdout",
     "output_type": "stream",
     "text": [
      "{'hello'}\n"
     ]
    }
   ],
   "source": [
    "#24. Develop a code that prompts the user to input two sets of strings. Then, print the elements that are present in the first set but not in the second set.\n",
    "set1 = set(input(\"Enter first set of strings: \").split(','))\n",
    "set2 = set(input(\"Enter second set of strings: \").split(','))\n",
    "difference = set1 - set2\n",
    "print(difference) \n",
    "###"
   ]
  },
  {
   "cell_type": "code",
   "execution_count": 57,
   "id": "5947b6dc-ca56-42a7-94f8-a53069943df5",
   "metadata": {},
   "outputs": [
    {
     "name": "stdin",
     "output_type": "stream",
     "text": [
      "Enter the start index:  0\n",
      "Enter the end index:  2\n"
     ]
    },
    {
     "name": "stdout",
     "output_type": "stream",
     "text": [
      "(1, 2, 3)\n"
     ]
    }
   ],
   "source": [
    "#25. Create a code that takes a tuple and two integers as input. The function should return a new tuple containing elements from the original tuple within the specified range of indices.\n",
    "\n",
    "tup = (1, 2, 3, 4, 5, 6)\n",
    "start_index = int(input(\"Enter the start index: \"))\n",
    "end_index = int(input(\"Enter the end index: \"))\n",
    "new_tup = tup[start_index:end_index + 1] \n",
    "print(new_tup)"
   ]
  },
  {
   "cell_type": "code",
   "execution_count": 61,
   "id": "346d4305-910a-4bd9-a3b2-d2ef165f8d01",
   "metadata": {},
   "outputs": [
    {
     "name": "stdin",
     "output_type": "stream",
     "text": [
      "Enter first set of characters:  hello hiii\n",
      "Enter second set of characters:  hii how are you\n"
     ]
    },
    {
     "name": "stdout",
     "output_type": "stream",
     "text": [
      "{'hello hiii', 'hii how are you'}\n"
     ]
    }
   ],
   "source": [
    "#26. Write a code that prompts the user to input two sets of characters. Then, print the union of these two sets.\n",
    "set1 = set(input(\"Enter first set of characters: \").split(','))\n",
    "set2 = set(input(\"Enter second set of characters: \").split(','))\n",
    "union = set1.union(set2)\n",
    "print(union)"
   ]
  },
  {
   "cell_type": "code",
   "execution_count": 63,
   "id": "62ce4f41-2613-467a-a2bc-4f4676139459",
   "metadata": {},
   "outputs": [
    {
     "name": "stdout",
     "output_type": "stream",
     "text": [
      "Maximum: 6, Minimum: 1\n"
     ]
    }
   ],
   "source": [
    "#27. Develop a code that takes a tuple of integers as input. The function should return the maximum and minimum values from the tuple using tuple unpacking.\n",
    "tup = (1, 2, 3, 4, 5, 6)\n",
    "max_val, min_val = max(tup), min(tup)\n",
    "print(f\"Maximum: {max_val}, Minimum: {min_val}\")"
   ]
  },
  {
   "cell_type": "code",
   "execution_count": 65,
   "id": "b88f4d25-ebf7-4d3a-8eb1-e8a016909508",
   "metadata": {},
   "outputs": [
    {
     "name": "stdout",
     "output_type": "stream",
     "text": [
      "Union: {1, 2, 3, 4, 5, 6}, Intersection: {3, 4}, Difference: {1, 2}\n"
     ]
    }
   ],
   "source": [
    "#28. Create a code that defines two sets of integers. Then, print the union, intersection, and difference of these two sets.\n",
    "set1 = {1, 2, 3, 4}\n",
    "set2 = {3, 4, 5, 6}\n",
    "union = set1.union(set2)\n",
    "inter = set1.intersection(set2)\n",
    "diff = set1.difference(set2)\n",
    "print(f\"Union: {union}, Intersection: {inter}, Difference: {diff}\")\n"
   ]
  },
  {
   "cell_type": "code",
   "execution_count": 69,
   "id": "d3111c88-667c-444f-b55f-287bd42d84f6",
   "metadata": {},
   "outputs": [
    {
     "name": "stdin",
     "output_type": "stream",
     "text": [
      "Enter the element to count:  2\n"
     ]
    },
    {
     "name": "stdout",
     "output_type": "stream",
     "text": [
      "3\n"
     ]
    }
   ],
   "source": [
    "#29. Write a code that takes a tuple and an element as input. The function should return the count of occurrences of the given element in the tuple.\n",
    "tup = (1, 2, 3, 2, 4, 2)\n",
    "element = int(input(\"Enter the element to count: \"))\n",
    "count = tup.count(element)\n",
    "print(count) "
   ]
  },
  {
   "cell_type": "code",
   "execution_count": 71,
   "id": "cb9e9dd7-95ef-4b73-9458-857613dc4bd2",
   "metadata": {},
   "outputs": [
    {
     "name": "stdin",
     "output_type": "stream",
     "text": [
      "Enter first set of strings:  hello\n",
      "Enter second set of strings:  world\n"
     ]
    },
    {
     "name": "stdout",
     "output_type": "stream",
     "text": [
      "{'world', 'hello'}\n"
     ]
    }
   ],
   "source": [
    "#30. Develop a code that prompts the user to input two sets of strings. Then, print the symmetric difference of these two sets.\n",
    "set1 = set(input(\"Enter first set of strings: \").split(','))\n",
    "set2 = set(input(\"Enter second set of strings: \").split(','))\n",
    "symmetric = set1.symmetric_difference(set2)\n",
    "print(symmetric) "
   ]
  },
  {
   "cell_type": "code",
   "execution_count": 75,
   "id": "aa67c350-f8d3-40b8-bfc2-c331d6a901c3",
   "metadata": {},
   "outputs": [
    {
     "name": "stdin",
     "output_type": "stream",
     "text": [
      "Enter a list of words:  hello\n"
     ]
    },
    {
     "name": "stdout",
     "output_type": "stream",
     "text": [
      "{'hello': 1}\n"
     ]
    }
   ],
   "source": [
    "#31. Write a code that takes a list of words as input and returns a dictionary where the keys are unique words and the values are the frequencies of those words in the input list.\n",
    "\n",
    "words = input(\"Enter a list of words: \").split()\n",
    "count = {}\n",
    "for word in words:\n",
    "    count[word] = count.get(word, 0) + 1\n",
    "print(count)"
   ]
  },
  {
   "cell_type": "code",
   "execution_count": 77,
   "id": "3899bc7b-6e5d-4318-aa4a-11f83bcd3282",
   "metadata": {},
   "outputs": [
    {
     "name": "stdout",
     "output_type": "stream",
     "text": [
      "{'a': 1, 'b': 5, 'c': 7, 'd': 5}\n"
     ]
    }
   ],
   "source": [
    "#32. Write a code that takes two dictionaries as input and merges them into a single dictionary. If there are common keys, the values should be added together.\n",
    "dict1 = {'a': 1, 'b': 2, 'c': 3}\n",
    "dict2 = {'b': 3, 'c': 4, 'd': 5}\n",
    "merged_dict = dict1.copy()\n",
    "\n",
    "for key, value in dict2.items():\n",
    "    if key in merged_dict:\n",
    "        merged_dict[key] += value\n",
    "    else:\n",
    "        merged_dict[key] = value\n",
    "\n",
    "print(merged_dict)"
   ]
  },
  {
   "cell_type": "code",
   "execution_count": 178,
   "id": "693e83bd-671c-40aa-b710-2fcfdb7d081a",
   "metadata": {},
   "outputs": [
    {
     "name": "stdout",
     "output_type": "stream",
     "text": [
      "42\n"
     ]
    }
   ],
   "source": [
    "#33. Write a code to access a value in a nested dictionary. The function should take the dictionary and a list of \n",
    "#keys as input, and return the corresponding value. If any of the keys do not exist in the dictionary, the\n",
    "#function should return None.\n",
    "\n",
    "nested_dict = {'a': {'b': {'c': 42}}}\n",
    "keys = ['a', 'b', 'c']\n",
    "\n",
    "value = nested_dict\n",
    "for key in keys:\n",
    "    if isinstance(value, dict) and key in value:\n",
    "        value = value[key]\n",
    "    else:\n",
    "        value = None\n",
    "        break\n",
    "\n",
    "print(value)"
   ]
  },
  {
   "cell_type": "code",
   "execution_count": 79,
   "id": "6d6915fd-7564-4e53-bbc3-5c0df95e8175",
   "metadata": {},
   "outputs": [
    {
     "name": "stdout",
     "output_type": "stream",
     "text": [
      "Ascending: {'b': 1, 'c': 2, 'a': 3, 'd': 10}\n",
      "Descending: {'d': 10, 'a': 3, 'c': 2, 'b': 1}\n"
     ]
    }
   ],
   "source": [
    "#34. Write a code that takes a dictionary as input and returns a sorted version of it based on the values. You\n",
    "#can choose whether to sort in ascending or descending order.\n",
    "my_dict = {'a': 3, 'b': 1, 'c': 2, 'd' : 10}\n",
    "\n",
    "#ascending\n",
    "asc = dict(sorted(my_dict.items(), key=lambda item: item[1]))\n",
    "print(\"Ascending:\", asc)\n",
    "\n",
    "# descending\n",
    "desc = dict(sorted(my_dict.items(), key=lambda item: item[1], reverse=True))\n",
    "print(\"Descending:\", desc) "
   ]
  },
  {
   "cell_type": "code",
   "execution_count": 81,
   "id": "dbd8f973-73ab-4e1e-82ff-52ed28c90520",
   "metadata": {},
   "outputs": [
    {
     "name": "stdout",
     "output_type": "stream",
     "text": [
      "{1: ['a', 'c'], 2: ['b']}\n"
     ]
    }
   ],
   "source": [
    "#35. Write a code that inverts a dictionary, swapping keys and values. Ensure that the inverted dictionary\n",
    "#correctly handles cases where multiple keys have the same value by storing the keys as a list in the inverted dictionary.\n",
    "my_dict = {'a': 1, 'b': 2, 'c': 1}\n",
    "inverted = {}\n",
    "\n",
    "for key, value in my_dict.items():\n",
    "    if value in inverted:\n",
    "        inverted[value].append(key)\n",
    "    else:\n",
    "        inverted[value] = [key]\n",
    "\n",
    "print(inverted)"
   ]
  },
  {
   "cell_type": "code",
   "execution_count": null,
   "id": "1223e015-735a-4f88-aba9-5ad64909fc7b",
   "metadata": {},
   "outputs": [],
   "source": []
  }
 ],
 "metadata": {
  "kernelspec": {
   "display_name": "Python 3 (ipykernel)",
   "language": "python",
   "name": "python3"
  },
  "language_info": {
   "codemirror_mode": {
    "name": "ipython",
    "version": 3
   },
   "file_extension": ".py",
   "mimetype": "text/x-python",
   "name": "python",
   "nbconvert_exporter": "python",
   "pygments_lexer": "ipython3",
   "version": "3.12.4"
  }
 },
 "nbformat": 4,
 "nbformat_minor": 5
}
