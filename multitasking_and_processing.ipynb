{
  "nbformat": 4,
  "nbformat_minor": 0,
  "metadata": {
    "colab": {
      "provenance": [],
      "authorship_tag": "ABX9TyPiM3NXjvGhiqFa0DcEjj0w",
      "include_colab_link": true
    },
    "kernelspec": {
      "name": "python3",
      "display_name": "Python 3"
    },
    "language_info": {
      "name": "python"
    }
  },
  "cells": [
    {
      "cell_type": "markdown",
      "metadata": {
        "id": "view-in-github",
        "colab_type": "text"
      },
      "source": [
        "<a href=\"https://colab.research.google.com/github/devangi-01/Advance_data_structure/blob/main/multitasking_and_processing.ipynb\" target=\"_parent\"><img src=\"https://colab.research.google.com/assets/colab-badge.svg\" alt=\"Open In Colab\"/></a>"
      ]
    },
    {
      "cell_type": "code",
      "execution_count": null,
      "metadata": {
        "colab": {
          "base_uri": "https://localhost:8080/"
        },
        "id": "Ns39DRW5ibCC",
        "outputId": "29d9e45f-f3da-42c8-bcc9-04630fef1905"
      },
      "outputs": [
        {
          "output_type": "stream",
          "name": "stdout",
          "text": [
            "Added 0\n",
            "Removed 0\n",
            "Added 1\n",
            "Removed 1\n",
            "Added 2\n",
            "Added 3\n",
            "Removed 2\n",
            "Added 4\n",
            "Removed 3\n",
            "Removed 4\n"
          ]
        }
      ],
      "source": [
        "\"\"\"4. Write a Python program using multithreading where one thread adds numbers to a list, and another\n",
        "thread removes numbers from the list. Implement a mechanism to avoid race conditions using\n",
        "threading.Lock.\"\"\"\n",
        "\n",
        "import threading\n",
        "import time\n",
        "\n",
        "shared_list = []\n",
        "list_lock = threading.Lock()\n",
        "\n",
        "def add():\n",
        "    for i in range(5):\n",
        "        with list_lock:\n",
        "            shared_list.append(i)\n",
        "            print(f\"Added {i}\")\n",
        "        time.sleep(1)\n",
        "\n",
        "def remove():\n",
        "    for i in range(5):\n",
        "        with list_lock:\n",
        "            if shared_list:\n",
        "                removed = shared_list.pop(0)\n",
        "                print(f\"Removed {removed}\")\n",
        "        time.sleep(1.5)\n",
        "\n",
        "\n",
        "thread1 = threading.Thread(target=add)\n",
        "thread2 = threading.Thread(target=remove)\n",
        "\n",
        "thread1.start()\n",
        "thread2.start()\n",
        "\n",
        "thread1.join()\n",
        "thread2.join()\n"
      ]
    },
    {
      "cell_type": "code",
      "source": [
        "#7. Create a program that uses a thread pool to calculate the factorial of numbers from 1 to 10 concurrently.\n",
        "#Use concurrent.futures.ThreadPoolExecutor to manage the threads.\n",
        "from concurrent.futures import ThreadPoolExecutor\n",
        "import math\n",
        "\n",
        "def factorial(n):\n",
        "    return math.factorial(n)\n",
        "\n",
        "numbers = range(1, 11)\n",
        "with ThreadPoolExecutor() as executor:\n",
        "    results = executor.map(factorial, numbers)\n",
        "\n",
        "print(\"Factorials from 1 to 10:\")\n",
        "\n",
        "for number, result in zip(numbers, results):\n",
        "    print(f\"{number}! = {result}\")\n"
      ],
      "metadata": {
        "colab": {
          "base_uri": "https://localhost:8080/"
        },
        "id": "X-9MATjtitIk",
        "outputId": "9062c7f8-9dad-45fb-d235-6343499ac5a4"
      },
      "execution_count": null,
      "outputs": [
        {
          "output_type": "stream",
          "name": "stdout",
          "text": [
            "Factorials from 1 to 10:\n",
            "1! = 1\n",
            "2! = 2\n",
            "3! = 6\n",
            "4! = 24\n",
            "5! = 120\n",
            "6! = 720\n",
            "7! = 5040\n",
            "8! = 40320\n",
            "9! = 362880\n",
            "10! = 3628800\n"
          ]
        }
      ]
    },
    {
      "cell_type": "code",
      "source": [
        "\"\"\" 8. Create a Python program that uses multiprocessing.Pool to compute the square of numbers from 1 to 10 in\n",
        "parallel. Measure the time taken to perform this computation using a pool of different sizes (e.g., 2, 4, 8\n",
        "processes).\"\"\"\n",
        "\n",
        "from multiprocessing import Pool\n",
        "import time\n",
        "\n",
        "def square(n):\n",
        "    return n * n\n",
        "\n",
        "numbers = range(1, 11)\n",
        "pool_sizes = [2, 4, 8]\n",
        "\n",
        "for size in pool_sizes:\n",
        "    start_time = time.time()\n",
        "    with Pool(size) as pool:\n",
        "        results = pool.map(square, numbers)\n",
        "    end_time = time.time()\n",
        "    print(f\"Pool size {size}, squares: {results}, time taken: {end_time - start_time:.4f} seconds\")\n",
        "\n"
      ],
      "metadata": {
        "colab": {
          "base_uri": "https://localhost:8080/"
        },
        "id": "cMDdLZKyitS1",
        "outputId": "9bb5e85e-f77c-4d08-98f6-c67bcb49d2a8"
      },
      "execution_count": null,
      "outputs": [
        {
          "output_type": "stream",
          "name": "stdout",
          "text": [
            "Pool size 2, squares: [1, 4, 9, 16, 25, 36, 49, 64, 81, 100], time taken: 0.0290 seconds\n",
            "Pool size 4, squares: [1, 4, 9, 16, 25, 36, 49, 64, 81, 100], time taken: 0.0541 seconds\n",
            "Pool size 8, squares: [1, 4, 9, 16, 25, 36, 49, 64, 81, 100], time taken: 0.1079 seconds\n"
          ]
        }
      ]
    }
  ]
}